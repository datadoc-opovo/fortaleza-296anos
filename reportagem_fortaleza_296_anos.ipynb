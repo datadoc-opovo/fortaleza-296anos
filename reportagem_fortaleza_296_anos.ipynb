{
  "cells": [
    {
      "cell_type": "markdown",
      "source": [
        "**INTRODUÇÃO**\n",
        "\n",
        "Este notebook traz análise reallizada para a reportagem [Cancioneiro das múltiplas Fortalezas](https://mais.opovo.com.br/reportagens-especiais/2022/04/12/as-multiplas-fortalezas-expressas-em-cancoes.html), publicada no O POVO+ no dia 12 de abril de 2022.\n",
        "\n",
        "A reportagem foi produzida em alusão ao aniversário de 296 anos de Fortaleza a partir de dados utilizados no [aplicativo Fortaleza em Música](https://play.google.com/store/apps/details?id=com.ufc.fortalezaemmusica&gl=US).\n",
        "\n",
        "O projeto é desenvolvido pelo Grupo de Imagem, Consumo e Experiência Urbana (GICEU), vinculado ao Programa de Pós-Graduação em Comunicação do Instituto de Cultura e Arte da Universidade Federal do Ceará (ICA/UFC).\n",
        "\n",
        "A partir dos arquivos concedidos pelo grupo de pesquisa da UFC, a Central de Jornalismo de Dados do **O POVO** (DATADOC) estruturou a base de dados e realizou a análise a seguir.\n",
        "\n",
        "Os dados originais pertencem ao Grupo de Imagem, Consumo e Experiência Urbana (ICA/UFC) e por isso não será disponibilizada neste repositório.\n",
        "\n",
        "A análise é feita em Python e este notebook traz os seguintes tópicos:\n",
        "\n",
        "1. [Importação e tratamento](#Importação)\n",
        "2. [Criação de nuvens de palavras](#NLTK)\n",
        "\n",
        "  2.1 [Criação de nuvem de palavras geral](#geral)\n",
        "\n",
        "  2.2 [Criação de nuvem de palavras das inspirações dos autores](#inspiração)\n",
        "3. [Encontrando os bairros de Fortaleza mais cantados ](#bairros)\n",
        "\n",
        "  3.1 [Quantidade de músicas por bairros](#quantidade)\n",
        "\n",
        "  3.2 [Músicas por bairro e por período](#período)\n",
        "\n",
        "\n",
        "\n",
        "**EXPEDIENTE**\n",
        "\n",
        "**Edição DATADOC**\n",
        "\n",
        "Thays Lavor\n",
        "\n",
        "\n",
        "**Análise e visualização de dados**\n",
        "\n",
        "Gabriela Custódio e Alexandre Cajazeira"
      ],
      "metadata": {
        "id": "E1r-h_s1cMN0"
      },
      "id": "E1r-h_s1cMN0"
    },
    {
      "cell_type": "code",
      "execution_count": null,
      "metadata": {
        "id": "aCB3PNOn4HK6",
        "colab": {
          "base_uri": "https://localhost:8080/"
        },
        "outputId": "582fc48b-8e70-43d2-9e05-512f727981e7"
      },
      "outputs": [
        {
          "output_type": "stream",
          "name": "stdout",
          "text": [
            "Collecting geopandas\n",
            "  Downloading geopandas-0.10.2-py2.py3-none-any.whl (1.0 MB)\n",
            "\u001b[K     |████████████████████████████████| 1.0 MB 14.7 MB/s \n",
            "\u001b[?25hCollecting pyproj>=2.2.0\n",
            "  Downloading pyproj-3.2.1-cp37-cp37m-manylinux2010_x86_64.whl (6.3 MB)\n",
            "\u001b[K     |████████████████████████████████| 6.3 MB 55.4 MB/s \n",
            "\u001b[?25hCollecting fiona>=1.8\n",
            "  Downloading Fiona-1.8.21-cp37-cp37m-manylinux2014_x86_64.whl (16.7 MB)\n",
            "\u001b[K     |████████████████████████████████| 16.7 MB 67.5 MB/s \n",
            "\u001b[?25hRequirement already satisfied: shapely>=1.6 in /usr/local/lib/python3.7/dist-packages (from geopandas) (1.8.1.post1)\n",
            "Requirement already satisfied: pandas>=0.25.0 in /usr/local/lib/python3.7/dist-packages (from geopandas) (1.3.5)\n",
            "Requirement already satisfied: setuptools in /usr/local/lib/python3.7/dist-packages (from fiona>=1.8->geopandas) (57.4.0)\n",
            "Requirement already satisfied: certifi in /usr/local/lib/python3.7/dist-packages (from fiona>=1.8->geopandas) (2021.10.8)\n",
            "Collecting munch\n",
            "  Downloading munch-2.5.0-py2.py3-none-any.whl (10 kB)\n",
            "Collecting click-plugins>=1.0\n",
            "  Downloading click_plugins-1.1.1-py2.py3-none-any.whl (7.5 kB)\n",
            "Requirement already satisfied: attrs>=17 in /usr/local/lib/python3.7/dist-packages (from fiona>=1.8->geopandas) (21.4.0)\n",
            "Collecting cligj>=0.5\n",
            "  Downloading cligj-0.7.2-py3-none-any.whl (7.1 kB)\n",
            "Requirement already satisfied: click>=4.0 in /usr/local/lib/python3.7/dist-packages (from fiona>=1.8->geopandas) (7.1.2)\n",
            "Requirement already satisfied: six>=1.7 in /usr/local/lib/python3.7/dist-packages (from fiona>=1.8->geopandas) (1.15.0)\n",
            "Requirement already satisfied: python-dateutil>=2.7.3 in /usr/local/lib/python3.7/dist-packages (from pandas>=0.25.0->geopandas) (2.8.2)\n",
            "Requirement already satisfied: numpy>=1.17.3 in /usr/local/lib/python3.7/dist-packages (from pandas>=0.25.0->geopandas) (1.21.5)\n",
            "Requirement already satisfied: pytz>=2017.3 in /usr/local/lib/python3.7/dist-packages (from pandas>=0.25.0->geopandas) (2018.9)\n",
            "Installing collected packages: munch, cligj, click-plugins, pyproj, fiona, geopandas\n",
            "Successfully installed click-plugins-1.1.1 cligj-0.7.2 fiona-1.8.21 geopandas-0.10.2 munch-2.5.0 pyproj-3.2.1\n",
            "Requirement already satisfied: nltk in /usr/local/lib/python3.7/dist-packages (3.2.5)\n",
            "Requirement already satisfied: six in /usr/local/lib/python3.7/dist-packages (from nltk) (1.15.0)\n"
          ]
        }
      ],
      "source": [
        "!pip install geopandas\n",
        "!pip install nltk"
      ],
      "id": "aCB3PNOn4HK6"
    },
    {
      "cell_type": "code",
      "execution_count": null,
      "metadata": {
        "id": "d5c8247d"
      },
      "outputs": [],
      "source": [
        "import pandas as pd\n",
        "import numpy as np\n",
        "import geopandas as gpd\n",
        "import shapely\n",
        "from shapely.geometry import Point, MultiPolygon\n",
        "import nltk\n",
        "from nltk import word_tokenize, sent_tokenize\n",
        "from nltk.corpus import stopwords\n",
        "import plotly.express as px\n",
        "\n",
        "from googleapiclient.discovery import build"
      ],
      "id": "d5c8247d"
    },
    {
      "cell_type": "code",
      "execution_count": null,
      "metadata": {
        "colab": {
          "base_uri": "https://localhost:8080/"
        },
        "id": "SyveX2V9IAi2",
        "outputId": "8e682384-94f9-4c04-e39b-3154345fb071"
      },
      "outputs": [
        {
          "output_type": "stream",
          "name": "stdout",
          "text": [
            "[nltk_data] Downloading package stopwords to /root/nltk_data...\n",
            "[nltk_data]   Unzipping corpora/stopwords.zip.\n"
          ]
        },
        {
          "output_type": "execute_result",
          "data": {
            "text/plain": [
              "True"
            ]
          },
          "metadata": {},
          "execution_count": 3
        }
      ],
      "source": [
        "nltk.download('stopwords')"
      ],
      "id": "SyveX2V9IAi2"
    },
    {
      "cell_type": "markdown",
      "source": [
        "## Importação e tratamento <a name=\"Importação\"></a>"
      ],
      "metadata": {
        "id": "tTl1O9uCbzl3"
      },
      "id": "tTl1O9uCbzl3"
    },
    {
      "cell_type": "code",
      "source": [
        "from google.colab import drive\n",
        "drive.mount('/content/drive')"
      ],
      "metadata": {
        "colab": {
          "base_uri": "https://localhost:8080/"
        },
        "id": "XtYPDVyRFDGy",
        "outputId": "4e54dc81-0564-4a03-d6a0-9df2a21dc9ee"
      },
      "id": "XtYPDVyRFDGy",
      "execution_count": null,
      "outputs": [
        {
          "output_type": "stream",
          "name": "stdout",
          "text": [
            "Mounted at /content/drive\n"
          ]
        }
      ]
    },
    {
      "cell_type": "code",
      "execution_count": null,
      "metadata": {
        "id": "50ba6b04"
      },
      "outputs": [],
      "source": [
        "arquivo = pd.read_csv('caminho_para_o_dataset')"
      ],
      "id": "50ba6b04"
    },
    {
      "cell_type": "markdown",
      "metadata": {
        "id": "3070b222"
      },
      "source": [
        "## Uso da biblioteca NLTK para criação de nuvens de palavras <a name=\"NLTK\"></a>"
      ],
      "id": "3070b222"
    },
    {
      "cell_type": "markdown",
      "metadata": {
        "id": "22d67efd"
      },
      "source": [
        "###  criação de nuvem de palavras geral  <a name=\"geral\"></a>"
      ],
      "id": "22d67efd"
    },
    {
      "cell_type": "code",
      "execution_count": null,
      "metadata": {
        "id": "33847a2c"
      },
      "outputs": [],
      "source": [
        "# excluir linhas com letras de músicas faltantes\n",
        "\n",
        "arquivo_letras = arquivo[arquivo['Letra'].isna() == False]"
      ],
      "id": "33847a2c"
    },
    {
      "cell_type": "code",
      "execution_count": null,
      "metadata": {
        "id": "5cd1a2c2"
      },
      "outputs": [],
      "source": [
        "# lista de stopwords em pt-br\n",
        "\n",
        "stopwords_ptbr = stopwords.words('portuguese')\n",
        "\n",
        "# ampliar a lista de stopwords com outras expressões que estão presentes nas letras das músicas\n",
        "novas_palavras = ['vai', 'então', '2x', 'ti', 'ia', 'ai', 'la', 'iaiou', 'lará', 'pra', 'dê', 'tão', 'ja', '3x', '5x', '315', 'abc', 'tô', 'cês', 'fic', 'tá', 'pro', 'deu', 'ê', 'mim', '7x', 'y', 'ô', '4x', 'n', '116', 'br', '20', '10%', 'né', 'aonde', 'en', 'refrão', 'pa', 'las', 'nê', 'iaiou', 'qua', '26', 'os', '10', '07', '7', '051', 'lá', '12', '8x', 'aí', '1604', 'ó', 'ah', 'porque', 'sobre', 'assim', '1941', '2020', '2021','1980', '1902', '1987', '2015', '2018', '1991', '2013', '1994', '1978', 'uh', 'porque', 'pra', 'pras', 'pro', 'pros', 'têm', 'tô', 'falando', 'assim', 'né', 'através', 'ela', 'ele', 'sobre', 'tanto', 'tal', 'pô', 'n', 'dez',  'por', 'em', 'ali', 'né', 'é', 'talvez', 'então', 'assim', 'fala', 'digo', 'poxa', 'aí', 'entendeu', 'entende', 'a', 'x', 'de', 'tava', 'onde', 'acho']\n",
        "\n",
        "stopwords_ptbr.extend(novas_palavras)"
      ],
      "id": "5cd1a2c2"
    },
    {
      "cell_type": "code",
      "execution_count": null,
      "metadata": {
        "id": "2226de4f"
      },
      "outputs": [],
      "source": [
        "# criar função processingTxt para preservar termos compostos\n",
        "\n",
        "def processingTxt(txt):\n",
        "    return txt.replace('beira mar', 'beira_mar').replace('beira-mar', 'beira_mar').replace('praia de iracema', 'praia_de_iracema').replace('castelo encantado', 'castelo_encantado').replace('cidade 2000', 'cidade_2000').replace('barra do ceará', 'barra_do_ceará').replace('rio ceará', 'rio_ceará').replace('vitória-régia', 'vitória_régia').replace('são paulo', 'são_paulo').replace('praia do futuro', 'praia_do_futuro').replace('gá-gá', 'gá_gá').replace('ray-ban', 'ray_ban').replace('high tech', 'high_tech').replace('bloco bate palmas', 'bloco_bate_palmas').replace('a gente', 'a_gente').replace('água doce', 'água_doce').replace('estrela do mar', 'estrela_do_mar').replace('caminho das índias', 'caminho_das_índias').replace('matias beck', 'matias_beck').replace('moinhos de holanda', 'moinhos_de_holanda').replace('praia do peixe', 'praia_do_peixe').replace('mina de prata', 'mina_de_prata').replace('alto mar', 'alto_mar').replace('pero coelho de sousa', 'pero_coelho_de_sousa').replace('martins soares moreno', 'martins_soares_moreno').replace('vila nova lisboa', 'vila_nova_lisboa').replace('morro de santiago', 'morro_de_santiago').replace('pôr-do-sol', 'pôr_do_sol').replace('berço da colonização', 'berço_da_colonização').replace('soares moreno', 'soares_moreno').replace('querer bem', 'querer_bem').replace('música baiana', 'música_baiana').replace('roqueiro do montese', 'roqueiro_do_montese').replace('beco sem saída', 'beco_sem_saída').replace('rock n roll', 'rock_n_roll').replace('zé bezerra', 'zé_bezerra').replace('ray-ban', 'ray_ban').replace('barruada gá-gá', 'barruada_gá_gá').replace('meu bem', 'meu_bem').replace('beira da praia', 'beira_da_praia').replace('caça e pesca', 'caça_e_pesca').replace('rio pajeú', 'rio_pajeú').replace('estrela do norte', 'estrela_do_norte').replace('cruzeiro do sul', 'cruzeiro_do_sul').replace('vila morena', 'vila_morena').replace('água boa', 'água_boa').replace('parque araxá', 'parque_araxá').replace('campo do pio', 'campo_do_pio').replace('são gerardo', 'são_gerardo').replace('dionísio torres', 'dionísio_torres').replace('instância castelo', 'instância_castelo').replace('monte castelo', 'monte_castelo').replace('aço de joão lopes', 'aço_de_joão_lopes').replace('antônio bezerra', 'antônio_bezerra').replace('barro vermelho', 'barro_vermelho').replace('amadeu furtado', 'amadeu_furtado').replace('franco rabelo', 'franco_rabelo').replace('curral das éguas', 'curral_das_éguas').replace('oitão preto', 'oitão_preto').replace('leste-oeste', 'leste_oeste').replace('rodolfo teófilo', 'rodolfo_teófilo').replace('nossa senhora das graças', 'nossa_senhora_das_graças').replace('henrique jorge', 'henrique_jorge').replace('casa popular', 'casa_popular').replace('álvaro weyne', 'álvaro_weyne').replace('santo antônio da floresta', 'santo_antônio_da_floresta').replace('fazenda boa vista', 'fazenda_boa_vista').replace('blocos de carnaval', 'blocos_de_carnaval').replace('esquina do samba', 'esquina_do_samba').replace('astro rei', 'astro_rei').replace('fora da lei', 'fora_da_lei').replace('praia da barra', 'praia_da_barra').replace('zé walter', 'zé_walter').replace('beira-mar', 'beira_mar').replace('nação miami', 'nação_miami').replace('arranha-céus', 'arranha_céus').replace('por que', 'por_que').replace('são cristóvão', 'são_cristóvão').replace('joão paulo', 'joão_paulo').replace('boa vista', 'boa_vista').replace('cachorro grande', 'cachorro_grande').replace('sítio timbaúba', 'sítio_timbaúba').replace('meia-noite', 'meia_noite').replace('meia noite', 'meia_noite').replace('praça do carmo', 'praça_do_carmo').replace('major facundo', 'major_facundo').replace('pedro pereira', 'pedro_pereira').replace('bloco bate palmas', 'bloco_bate_palmas').replace('bate-palmas', 'bate_palmas').replace('teatro flores do lixo', 'teatro_flores_do_lixo').replace('estrela do sertão', 'estrela_do_sertão').replace('dança de rua', 'dança_de_rua').replace('hip-hop', 'hip_hop').replace('conjunto palmeiras das artes', 'conjunto_palmeiras_das_artes').replace('solidária economia', 'solidária_economia').replace('vitória-régia', 'vitória_régia').replace('unidos da cachorra', 'unidos_da_cachorra').replace('a doida é tu', 'a_doida_é_tu').replace('luz da vila', 'luz_da_vila').replace('som da lira', 'som_da_lira').replace('bons amigos', 'bons_amigos').replace('a turma do mamão', 'a_turma_do_mamão').replace('as gata pira', 'as_gata_pira').replace('agora vai', 'agora_vai').replace('amante de iracema', 'amante_de_iracema').replace('concentra mas não sai', 'concentra_mas_não_sai').replace(\"debaixo d'água\", 'debaixo_dágua').replace('tupi or not tupi', 'tupi_or_not_tupi').replace('américa do sul', 'américa_do_sul').replace('quatro graus', 'quatro_graus').replace('br 116', 'br_116').replace('canção de bulbrax', 'canção_de_bulbrax').replace('ponte velha', 'ponte_velha').replace('jangada de vela', 'jangada_de_vela').replace('são paulo', 'são_paulo').replace('fim de semana', 'fim_de_semana').replace('sexta-feira', 'sexta_feira').replace('kiss me', 'kiss_me').replace('kill me', 'kill_me').replace('femme bateau', 'femme_bateau').replace('luiz assumpção', 'luiz_assumpção').replace('otávio bonfim', 'otávio_bonfim').replace('jardim américa', 'jardim_américa').replace('nova metrópole', 'nova_metrópole').replace('vinte três', 'vinte_três').replace('vinte e quatro', 'vinte_e_quatro').replace('décima primeira', 'décima_primeira').replace('vinte e um', 'vinte_e_um').replace('ildefonso albano', 'ildefonso_albano').replace('vigésima segunda', 'vigésima_segunda').replace('pio 12', 'pio_12').replace('conjunto ceará', 'conjunto_ceará').replace('dezenove e doze', 'dezenove_e_doze').replace('nova assunção', 'nova_assunção').replace('décima sexta', 'décima_sexta').replace('joão vinte e três', 'joão_vinte_e_três').replace('domila quinze', 'domila_quinze').replace('antônio bezerra', 'antônio_bezerra').replace('edson queiroz', 'edson_queiroz').replace('vinte e seis', 'vinte_e_seis').replace('costa barros', 'costa_barros').replace('henrique jorge', 'henrique_jorge').replace('vinte e sete', 'vinte_e_sete').replace('trinta e um', 'trinta_e_um').replace('vinte e nove', 'vinte_e_nove').replace('novo maracanaú', 'novo_maracanaú').replace('vinte e oito', 'vinte_e_oito').replace('trinta e três', 'trinta_e_três').replace('trigésima quarta', 'trigésima_quarta').replace('almirante tamandaré', 'almirante_tamandaré').replace('muito ruim', 'muito_ruim').replace('trinta e dois', 'trinta_e_dois').replace('bom jardim', 'bom_jardim').replace('fortalezas e suas dps', 'fortalezas_e_suas_dps').replace('blá-blá-blá', 'blá_blá_blá').replace('escrava sexual', 'escrava_sexual').replace('quatro ventos', 'quatro_ventos').replace('camisa de vênus', 'camisa_de_vênus').replace('mãe solteira', 'mãe_solteira').replace('meu deus', 'meu_deus').replace('fortaleza bela', 'fortaleza_bela').replace('alto mar', 'alto_mar').replace('estátua de iracema', 'estátua_de_iracema').replace('mucambo cafundó', 'mucambo_cafundó').replace('velas do mucuripe', 'velas_do_mucuripe').replace('planalto central', 'planalto_central').replace('nova iorque', 'nova_iorque').replace('beca xl', 'beca_xl').replace('zero sete', 'zero_sete').replace('beck xl', 'beck_xl').replace('double xl', 'double_xl').replace('high tech', 'high_tech').replace('bad vibes', 'bad_vibes').replace('a sete chaves', 'a_sete_chaves').replace('guerra às drogas', 'guerra_às_drogas').replace('seu mané', 'seu_mané').replace('rio de janeiro', 'rio_de_janeiro').replace('jangada são pedro', 'jangada_são_pedro').replace('getúlio vargas', 'getúlio_vargas').replace('dona maria', 'dona_maria').replace('grande otelo', 'grande_otelo').replace('castelo encantado', 'castelo_encantado').replace('zona leste', 'zona_leste').replace('cinema noir', 'cinema_noir').replace('menino de rua', 'menino_de_rua').replace('cidade 2000', 'cidade_2000').replace('praia do futuro', 'praia_do_futuro').replace('ao vivo', 'ao_vivo').replace('pedro bala', 'pedro_bala').replace('faixa de gaza', 'faixa_de_gaza').replace('gás lacrimogêneo', 'gás_lacrimogêneo').replace('bala de borracha', 'bala_de_borracha').replace('roda gigante', 'roda_gigante').replace('holocausto capital', 'holocausto_capital').replace('merci bocu', 'merci_bocu').replace('rua formosa', 'rua_formosa').replace('artigo 26', 'artigo_26').replace('galinha pedrês', 'galinha_pedrês').replace('south america', 'south_america').replace('nata do lixo', 'nata_do_lixo').replace('luxo da aldeia', 'luxo_da_aldeia')"
      ],
      "id": "2226de4f"
    },
    {
      "cell_type": "code",
      "execution_count": null,
      "metadata": {
        "colab": {
          "base_uri": "https://localhost:8080/"
        },
        "id": "b899c127",
        "outputId": "f4fa41f0-7afc-4f8e-fff6-87b13c7fdddf"
      },
      "outputs": [
        {
          "output_type": "stream",
          "name": "stderr",
          "text": [
            "/usr/local/lib/python3.7/dist-packages/ipykernel_launcher.py:3: SettingWithCopyWarning: \n",
            "A value is trying to be set on a copy of a slice from a DataFrame.\n",
            "Try using .loc[row_indexer,col_indexer] = value instead\n",
            "\n",
            "See the caveats in the documentation: https://pandas.pydata.org/pandas-docs/stable/user_guide/indexing.html#returning-a-view-versus-a-copy\n",
            "  This is separate from the ipykernel package so we can avoid doing imports until\n",
            "/usr/local/lib/python3.7/dist-packages/ipykernel_launcher.py:4: SettingWithCopyWarning: \n",
            "A value is trying to be set on a copy of a slice from a DataFrame.\n",
            "Try using .loc[row_indexer,col_indexer] = value instead\n",
            "\n",
            "See the caveats in the documentation: https://pandas.pydata.org/pandas-docs/stable/user_guide/indexing.html#returning-a-view-versus-a-copy\n",
            "  after removing the cwd from sys.path.\n"
          ]
        }
      ],
      "source": [
        "# deixar letras de músicas em caixa baixa, criar a coluna '['letras_musicas'] e aplicar função processingTxt\n",
        "\n",
        "arquivo_letras['letras_musicas'] = arquivo_letras['Letra'].str.lower()\n",
        "arquivo_letras['letras_musicas'] = arquivo_letras['letras_musicas'].fillna('-').apply(lambda x: processingTxt(x))"
      ],
      "id": "b899c127"
    },
    {
      "cell_type": "code",
      "execution_count": null,
      "metadata": {
        "id": "00c2fc26"
      },
      "outputs": [],
      "source": [
        "# criar função para gerar dataframe com palavras que mais se repetem e criar nuvem de palavras\n",
        "\n",
        "def encontrarPalavras(letras):\n",
        "    \n",
        "    # criar lista com letras das músicas após retirar o separador\n",
        "    letras_separadas = list()\n",
        "\n",
        "    for letra_musica in letras:\n",
        "        letra_musica = letra_musica.lower()\n",
        "        letra_musica_separada = letra_musica.split(' / ')\n",
        "        letras_separadas.append(letra_musica_separada)\n",
        "\n",
        "    # criar variável para tokenizador\n",
        "    tokenizador = nltk.WhitespaceTokenizer()\n",
        "\n",
        "    # criar lista com letras das músicas após tokenização\n",
        "    frases_letras_tokenizadas = list()\n",
        "\n",
        "    for letra in letras_separadas:\n",
        "        for frase in letra:\n",
        "            frase_tokenizada = tokenizador.tokenize(frase)\n",
        "            frases_letras_tokenizadas.append(frase_tokenizada)\n",
        "\n",
        "    # criar lista com palavras sem pontuação e caracteres especiais\n",
        "    palavras_sem_pontuacao = list()\n",
        "\n",
        "    for frase in frases_letras_tokenizadas:\n",
        "        for palavra in frase:\n",
        "            nova_palavra = palavra.translate ({ord(c): \"\" for c in \"…'‘“”!@#$%^&*()[]{};:.,/–-<>?\\|`~=+\"})\n",
        "            palavras_sem_pontuacao.append(nova_palavra)\n",
        "\n",
        "    # criar lista com palavras fora da lista de stopwords\n",
        "    palavras_fora_stopwords = list()\n",
        "\n",
        "    for palavra in palavras_sem_pontuacao:\n",
        "        if palavra not in stopwords_ptbr:\n",
        "            palavras_fora_stopwords.append(palavra)\n",
        "\n",
        "    # criar dataframe com as palavras que não estão na lista de stopwords\n",
        "    df_palavras_coluna = pd.DataFrame(palavras_fora_stopwords)\n",
        "\n",
        "    df_palavras_coluna.rename(columns={0: 'palavras'}, inplace=True)\n",
        "    df_palavras_coluna['repetições'] = 1\n",
        "    \n",
        "    # remover underline\n",
        "    df_palavras_coluna['palavras'] = df_palavras_coluna['palavras'].str.replace('_', ' ')\n",
        "    \n",
        "    return df_palavras_coluna"
      ],
      "id": "00c2fc26"
    },
    {
      "cell_type": "code",
      "execution_count": null,
      "metadata": {
        "id": "a5c5eccd"
      },
      "outputs": [],
      "source": [
        "# aplicar função definida anteriormente na coluna arquivo_letras['letras_musicas']\n",
        "\n",
        "nuvem_geral = encontrarPalavras(arquivo_letras['letras_musicas'])"
      ],
      "id": "a5c5eccd"
    },
    {
      "cell_type": "code",
      "execution_count": null,
      "metadata": {
        "id": "1bf3b2e9",
        "scrolled": false
      },
      "outputs": [],
      "source": [
        "# agrupamento das palavras mais recorrentes e salvar em .csv para montar nuvem de palavras\n",
        "\n",
        "df_nuvem_geral = nuvem_geral.groupby(by='palavras').sum().sort_values(by='repetições', ascending=False).reset_index()"
      ],
      "id": "1bf3b2e9"
    },
    {
      "cell_type": "code",
      "execution_count": null,
      "metadata": {
        "id": "9308da9a"
      },
      "outputs": [],
      "source": [
        "# salvar arquivo em .csv\n",
        "\n",
        "df_nuvem_geral.to_csv('df_nuvem_palavras_geral.csv', sep=',', encoding='utf-8', index=False)"
      ],
      "id": "9308da9a"
    },
    {
      "cell_type": "code",
      "execution_count": null,
      "metadata": {
        "colab": {
          "base_uri": "https://localhost:8080/",
          "height": 206
        },
        "id": "1S3Kv2XhgHWF",
        "outputId": "7b8c3e34-ed35-427f-d342-1cb5f03aa167"
      },
      "outputs": [
        {
          "output_type": "execute_result",
          "data": {
            "text/plain": [
              "  palavras  repetições\n",
              "0      mar          60\n",
              "1      sol          57\n",
              "2    tempo          42\n",
              "3      dia          41\n",
              "4     vida          37"
            ],
            "text/html": [
              "\n",
              "  <div id=\"df-418241f7-79ec-4b77-89ef-0308e602911f\">\n",
              "    <div class=\"colab-df-container\">\n",
              "      <div>\n",
              "<style scoped>\n",
              "    .dataframe tbody tr th:only-of-type {\n",
              "        vertical-align: middle;\n",
              "    }\n",
              "\n",
              "    .dataframe tbody tr th {\n",
              "        vertical-align: top;\n",
              "    }\n",
              "\n",
              "    .dataframe thead th {\n",
              "        text-align: right;\n",
              "    }\n",
              "</style>\n",
              "<table border=\"1\" class=\"dataframe\">\n",
              "  <thead>\n",
              "    <tr style=\"text-align: right;\">\n",
              "      <th></th>\n",
              "      <th>palavras</th>\n",
              "      <th>repetições</th>\n",
              "    </tr>\n",
              "  </thead>\n",
              "  <tbody>\n",
              "    <tr>\n",
              "      <th>0</th>\n",
              "      <td>mar</td>\n",
              "      <td>60</td>\n",
              "    </tr>\n",
              "    <tr>\n",
              "      <th>1</th>\n",
              "      <td>sol</td>\n",
              "      <td>57</td>\n",
              "    </tr>\n",
              "    <tr>\n",
              "      <th>2</th>\n",
              "      <td>tempo</td>\n",
              "      <td>42</td>\n",
              "    </tr>\n",
              "    <tr>\n",
              "      <th>3</th>\n",
              "      <td>dia</td>\n",
              "      <td>41</td>\n",
              "    </tr>\n",
              "    <tr>\n",
              "      <th>4</th>\n",
              "      <td>vida</td>\n",
              "      <td>37</td>\n",
              "    </tr>\n",
              "  </tbody>\n",
              "</table>\n",
              "</div>\n",
              "      <button class=\"colab-df-convert\" onclick=\"convertToInteractive('df-418241f7-79ec-4b77-89ef-0308e602911f')\"\n",
              "              title=\"Convert this dataframe to an interactive table.\"\n",
              "              style=\"display:none;\">\n",
              "        \n",
              "  <svg xmlns=\"http://www.w3.org/2000/svg\" height=\"24px\"viewBox=\"0 0 24 24\"\n",
              "       width=\"24px\">\n",
              "    <path d=\"M0 0h24v24H0V0z\" fill=\"none\"/>\n",
              "    <path d=\"M18.56 5.44l.94 2.06.94-2.06 2.06-.94-2.06-.94-.94-2.06-.94 2.06-2.06.94zm-11 1L8.5 8.5l.94-2.06 2.06-.94-2.06-.94L8.5 2.5l-.94 2.06-2.06.94zm10 10l.94 2.06.94-2.06 2.06-.94-2.06-.94-.94-2.06-.94 2.06-2.06.94z\"/><path d=\"M17.41 7.96l-1.37-1.37c-.4-.4-.92-.59-1.43-.59-.52 0-1.04.2-1.43.59L10.3 9.45l-7.72 7.72c-.78.78-.78 2.05 0 2.83L4 21.41c.39.39.9.59 1.41.59.51 0 1.02-.2 1.41-.59l7.78-7.78 2.81-2.81c.8-.78.8-2.07 0-2.86zM5.41 20L4 18.59l7.72-7.72 1.47 1.35L5.41 20z\"/>\n",
              "  </svg>\n",
              "      </button>\n",
              "      \n",
              "  <style>\n",
              "    .colab-df-container {\n",
              "      display:flex;\n",
              "      flex-wrap:wrap;\n",
              "      gap: 12px;\n",
              "    }\n",
              "\n",
              "    .colab-df-convert {\n",
              "      background-color: #E8F0FE;\n",
              "      border: none;\n",
              "      border-radius: 50%;\n",
              "      cursor: pointer;\n",
              "      display: none;\n",
              "      fill: #1967D2;\n",
              "      height: 32px;\n",
              "      padding: 0 0 0 0;\n",
              "      width: 32px;\n",
              "    }\n",
              "\n",
              "    .colab-df-convert:hover {\n",
              "      background-color: #E2EBFA;\n",
              "      box-shadow: 0px 1px 2px rgba(60, 64, 67, 0.3), 0px 1px 3px 1px rgba(60, 64, 67, 0.15);\n",
              "      fill: #174EA6;\n",
              "    }\n",
              "\n",
              "    [theme=dark] .colab-df-convert {\n",
              "      background-color: #3B4455;\n",
              "      fill: #D2E3FC;\n",
              "    }\n",
              "\n",
              "    [theme=dark] .colab-df-convert:hover {\n",
              "      background-color: #434B5C;\n",
              "      box-shadow: 0px 1px 3px 1px rgba(0, 0, 0, 0.15);\n",
              "      filter: drop-shadow(0px 1px 2px rgba(0, 0, 0, 0.3));\n",
              "      fill: #FFFFFF;\n",
              "    }\n",
              "  </style>\n",
              "\n",
              "      <script>\n",
              "        const buttonEl =\n",
              "          document.querySelector('#df-418241f7-79ec-4b77-89ef-0308e602911f button.colab-df-convert');\n",
              "        buttonEl.style.display =\n",
              "          google.colab.kernel.accessAllowed ? 'block' : 'none';\n",
              "\n",
              "        async function convertToInteractive(key) {\n",
              "          const element = document.querySelector('#df-418241f7-79ec-4b77-89ef-0308e602911f');\n",
              "          const dataTable =\n",
              "            await google.colab.kernel.invokeFunction('convertToInteractive',\n",
              "                                                     [key], {});\n",
              "          if (!dataTable) return;\n",
              "\n",
              "          const docLinkHtml = 'Like what you see? Visit the ' +\n",
              "            '<a target=\"_blank\" href=https://colab.research.google.com/notebooks/data_table.ipynb>data table notebook</a>'\n",
              "            + ' to learn more about interactive tables.';\n",
              "          element.innerHTML = '';\n",
              "          dataTable['output_type'] = 'display_data';\n",
              "          await google.colab.output.renderOutput(dataTable, element);\n",
              "          const docLink = document.createElement('div');\n",
              "          docLink.innerHTML = docLinkHtml;\n",
              "          element.appendChild(docLink);\n",
              "        }\n",
              "      </script>\n",
              "    </div>\n",
              "  </div>\n",
              "  "
            ]
          },
          "metadata": {},
          "execution_count": 14
        }
      ],
      "source": [
        "df_nuvem_geral.head()"
      ],
      "id": "1S3Kv2XhgHWF"
    },
    {
      "cell_type": "code",
      "source": [
        "# total de palavras\n",
        "df_nuvem_geral['palavras'].nunique()"
      ],
      "metadata": {
        "colab": {
          "base_uri": "https://localhost:8080/"
        },
        "id": "2dxXQ16OrSpG",
        "outputId": "e8260357-ae82-41a7-b649-9ec9166991c2"
      },
      "id": "2dxXQ16OrSpG",
      "execution_count": null,
      "outputs": [
        {
          "output_type": "execute_result",
          "data": {
            "text/plain": [
              "2811"
            ]
          },
          "metadata": {},
          "execution_count": 15
        }
      ]
    },
    {
      "cell_type": "code",
      "source": [
        "# total de palavras que se repetem\n",
        "df_nuvem_geral[df_nuvem_geral['repetições'] != 1]['palavras'].nunique()"
      ],
      "metadata": {
        "colab": {
          "base_uri": "https://localhost:8080/"
        },
        "id": "dLdQcPGssj-y",
        "outputId": "07a79f66-8bf7-401b-862d-2c0a1b5c2f82"
      },
      "id": "dLdQcPGssj-y",
      "execution_count": null,
      "outputs": [
        {
          "output_type": "execute_result",
          "data": {
            "text/plain": [
              "1196"
            ]
          },
          "metadata": {},
          "execution_count": 16
        }
      ]
    },
    {
      "cell_type": "code",
      "source": [
        "# total de palavras com ocorrência única\n",
        "df_nuvem_geral[df_nuvem_geral['repetições'] == 1]['palavras'].nunique()"
      ],
      "metadata": {
        "colab": {
          "base_uri": "https://localhost:8080/"
        },
        "id": "5D1C76WNsB9E",
        "outputId": "5ca05307-76b0-4abe-8b5b-e3c7fa14884f"
      },
      "id": "5D1C76WNsB9E",
      "execution_count": null,
      "outputs": [
        {
          "output_type": "execute_result",
          "data": {
            "text/plain": [
              "1615"
            ]
          },
          "metadata": {},
          "execution_count": 17
        }
      ]
    },
    {
      "cell_type": "markdown",
      "metadata": {
        "id": "e887b511"
      },
      "source": [
        "###  criação de nuvem de palavras das inspirações <a name=\"inspiração\"></a>\n"
      ],
      "id": "e887b511"
    },
    {
      "cell_type": "code",
      "execution_count": null,
      "metadata": {
        "id": "2aec9c9a"
      },
      "outputs": [],
      "source": [
        "# delimitar coluna com nome da música e inspiração\n",
        "df_inspiracao = arquivo_letras[['Nome da música', 'inspiração_copia']]"
      ],
      "id": "2aec9c9a"
    },
    {
      "cell_type": "code",
      "execution_count": null,
      "metadata": {
        "id": "ea046417"
      },
      "outputs": [],
      "source": [
        "pd.set_option('display.max_rows', 70)"
      ],
      "id": "ea046417"
    },
    {
      "cell_type": "code",
      "execution_count": null,
      "metadata": {
        "colab": {
          "base_uri": "https://localhost:8080/"
        },
        "id": "23289a82",
        "outputId": "032deaa1-aafe-4228-fbd5-caee52842e30",
        "scrolled": false
      },
      "outputs": [
        {
          "output_type": "stream",
          "name": "stderr",
          "text": [
            "/usr/local/lib/python3.7/dist-packages/pandas/util/_decorators.py:311: SettingWithCopyWarning: \n",
            "A value is trying to be set on a copy of a slice from a DataFrame\n",
            "\n",
            "See the caveats in the documentation: https://pandas.pydata.org/pandas-docs/stable/user_guide/indexing.html#returning-a-view-versus-a-copy\n",
            "  return func(*args, **kwargs)\n"
          ]
        }
      ],
      "source": [
        "df_inspiracao.dropna(inplace=True)\n",
        "df_inspiracao.drop_duplicates(subset='inspiração_copia', inplace=True)"
      ],
      "id": "23289a82"
    },
    {
      "cell_type": "code",
      "execution_count": null,
      "metadata": {
        "colab": {
          "base_uri": "https://localhost:8080/"
        },
        "id": "21e61d8d",
        "outputId": "918dbc25-70b2-4cae-dd3d-1297a5f51dd2",
        "scrolled": false
      },
      "outputs": [
        {
          "output_type": "stream",
          "name": "stdout",
          "text": [
            "<class 'pandas.core.frame.DataFrame'>\n",
            "Int64Index: 73 entries, 0 to 78\n",
            "Data columns (total 2 columns):\n",
            " #   Column            Non-Null Count  Dtype \n",
            "---  ------            --------------  ----- \n",
            " 0   Nome da música    73 non-null     object\n",
            " 1   inspiração_copia  73 non-null     object\n",
            "dtypes: object(2)\n",
            "memory usage: 1.7+ KB\n"
          ]
        }
      ],
      "source": [
        "df_inspiracao.info()"
      ],
      "id": "21e61d8d"
    },
    {
      "cell_type": "code",
      "execution_count": null,
      "metadata": {
        "id": "6F1-_zDFpohr"
      },
      "outputs": [],
      "source": [
        "# criar função processingTxtInspiracao para preservar termos compostos na coluna de depoimentos sobre a inspiração das músicas\n",
        "\n",
        "def processingTxtInspiracao(txt):\n",
        "    return txt.replace('1000 reais', '1000_reais').replace('beira mar', 'beira_mar').replace('beira-mar', 'beira_mar').replace('praia de iracema', 'praia_de_iracema').replace('rio ceará', 'rio_ceará').replace('vitória-régia', 'vitória_régia').replace('arranha-céu', 'arranha_céu').replace('são paulo', 'são_paulo').replace('praia do futuro', 'praia_do_futuro').replace('a gente', 'a_gente').replace('13 de maio', '13_de_maio').replace('19 anos', '19_anos').replace('61 dias', '61_dias').replace('abertura política', 'abertura_política').replace('anos 1980', 'anos_1980').replace('anos 2010', 'anos_2010').replace('anos 70', 'anos_70').replace('augusto pontes', 'augusto_pontes').replace('avenida santos dumont', 'avenida_santos_dumont').replace('balneabilidade livre', 'balneabilidade_livre').replace('banco palmas', 'banco_palmas').replace('bar academia', 'bar_academia').replace('bar do anísio', 'bar_do_anísio').replace('bares do benfica', 'bares_do_benfica').replace('barra do ceará', 'barra_do_ceará').replace('barra nova', 'barra_nova').replace('barra pesada', 'barra_pesada').replace('base aérea de fortaleza', 'base_aérea_de_fortaleza').replace('belas artes', 'belas_artes').replace('benfica na boca da noite', 'benfica_na_boca_da_noite').replace('bertolt brecht', 'bertolt_brecht').replace('bloco bate palmas', 'bloco_bate_palmas').replace('bloco prazer', 'bloco_prazer').replace('br-116', 'br_116').replace('brasil de dentro', 'brasil_de_dentro').replace('brega sabbath', 'brega_sabbath').replace('briga de gangue', 'briga_de_gangue').replace('bárbara de alencar', 'bárbara_de_alencar').replace('caixeiros viajantes', 'caixeiros_viajantes').replace('canto do sabiá', 'canto_do_sabiá').replace('canto provinciano', 'canto_provinciano').replace('canção pra ninar curumim', 'canção_pra_ninar_curumim').replace('capitães da areia', 'capitães_da_areia').replace('carlinhos brown', 'carlinhos_brown').replace('carnaval de 2008', 'carnaval_de_2008').replace('castelo do plácido', 'castelo_do_plácido').replace('castelo encantado', 'castelo_encantado').replace('centro dragão do mar', 'centro_dragão_do_mar').replace('cidade 2000', 'cidade_2000').replace('cidade dos funcionários', 'cidade_dos_funcionários').replace('cidadão instigado', 'cidadão_instigado').replace('circo escola', 'circo_escola').replace('classe média', 'classe_média').replace('classe média alta', 'classe_média_alta').replace('clube da esquina no 2', 'clube_da_esquina_no_2').replace('cláudio pereira', 'cláudio_pereira').replace('companhia bate palmas', 'companhia_bate_palmas').replace('concha acústica', 'concha_acústica').replace('confederação do equador', 'confederação_do_equador').replace('conjunto palmeiras', 'conjunto_palmeiras').replace('crescer com arte', 'crescer_com_arte').replace('cultura do povo', 'cultura_do_povo').replace('cultura indígena', 'cultura_indígena').replace('cultura insubmissa', 'cultura_insubmissa').replace('dado villa-lobos', 'dado_villa_lobos').replace('dança de rua', 'dança_de_rua').replace('davi duarte', 'davi_duarte').replace('dedé evangelista', 'dedé_evangelista').replace('deusas de iracema', 'deusas_de_iracema').replace('ditador do estado novo', 'ditador_do_estado_novo').replace('ditadura militar', 'ditadura_militar').replace('dona maria', 'dona_maria').replace('dona mocinha', 'dona_mocinha').replace('doutor barros pinho', 'doutor_barros_pinho').replace('dragão do mar', 'dragão_do_mar').replace('década de 1940', 'década_de_1940').replace('década de setenta', 'década_de_setenta').replace('edifício são pedro', 'edifício_são_pedro').replace('elvis presley silva', 'elvis_presley_silva').replace('esquina do brasil', 'esquina_do_brasil').replace('estados unidos', 'estados_unidos').replace('estrela do norte', 'estrela_do_norte').replace('ex-prefeito roberto cláudio', 'ex_prefeito_roberto_cláudio').replace('fausto nilo', 'fausto_nilo').replace('favela da zé bastos', 'favela_da_zé_bastos').replace('feira do benfica', 'feira_do_benfica').replace('femme bateau', 'femme_bateau').replace('festa católica', 'festa_católica').replace('festa da quermesse', 'festa_da_quermesse').replace('finais de semana', 'finais_de_semana').replace('flávio torres', 'flávio_torres').replace('futuro e memória', 'futuro_e_memória').replace('getúlio vargas', 'getúlio_vargas').replace('governo do estado', 'governo_do_estado').replace('governo luizianne', 'governo_luizianne').replace('grande circular', 'grande_circular').replace('grupo siriará de literatura', 'grupo_siriará_de_literatura').replace('gruta do seu zairton', 'gruta_do_seu_zairton').replace('guardas municipais', 'guardas_municipais').replace('holocausto capital', 'holocausto_capital').replace('igreja católica', 'igreja_católica').replace('igreja de fátima', 'igreja_de_fátima').replace('igreja do mucuripe', 'igreja_do_mucuripe').replace('iv festival da música popular cearense', 'iv_festival_da_música_popular_cearense').replace('jangada são pedro', 'jangada_são_pedro').replace('john lennon', 'john_lennon').replace('jornal o pão', 'jornal_o_pão').replace('josé capello', 'josé_capello').replace('josé de alencar', 'josé_de_alencar').replace('lugar de partida', 'lugar_de_partida').replace('luiz assumpção', 'luiz_assumpção').replace('luiz carlos porto', 'luiz_carlos_porto').replace('lúcio ricardo', 'lúcio_ricardo').replace('major facundo', 'major_facundo').replace('maluco beleza', 'maluco_beleza').replace('manuel olímpio meire', 'manuel_olímpio_meire').replace('manuel pereira da silva (manuel preto)', 'manuel_pereira_da_silva_(manuel_preto)').replace('marca palma', 'marca_palma').replace('marcos dias', 'marcos_dias').replace('marcos francisco', 'marcos_francisco').replace('marcus (dias)', 'marcus_(dias)').replace('marcus dias', 'marcus_dias').replace('marina park', 'marina_park').replace('mercado central', 'mercado_central').replace('mercado público da aerolândia', 'mercado_público_da_aerolândia').replace('mestre jerônimo', 'mestre_jerônimo').replace('mestre jerônimo andré de sousa', 'mestre_jerônimo_andré_de_sousa').replace('meu corpo minha embalagem todo gasto na viagem', 'meu_corpo_minha_embalagem_todo_gasto_na_viagem').replace('milton nascimento', 'milton_nascimento').replace('morro das palmeiras', 'morro_das_palmeiras').replace('morro marajaitiba', 'morro_marajaitiba').replace('movimentos sociais', 'movimentos_sociais').replace('mucambo cafundó', 'mucambo_cafundó').replace('mulher barco', 'mulher_barco').replace('márcio catunda', 'márcio_catunda').replace('mário gomes', 'mário_gomes').replace('nada sou', 'nada_sou').replace('new york', 'new_york').replace('nomes de ruas', 'nomes_de_ruas').replace('orson welles', 'orson_welles').replace('oswald de andradequarenta e cinco, do segundo tempo', 'oswald_de_andradequarenta_e_cinco,_do_segundo_tempo').replace('padaria espiritual', 'padaria_espiritual').replace('palma linha', 'palma_linha').replace('palmas fashion', 'palmas_fashion').replace('passarela na br 116', 'passarela_na_br_116').replace('passeio público', 'passeio_público').replace('pedro breculê', 'pedro_breculê').replace('pedro pereira', 'pedro_pereira').replace('pescadores cearenses', 'pescadores_cearenses').replace('pessoas de favela', 'pessoas_de_favela').replace('petrúcio maia', 'petrúcio_maia').replace('pinturas de rosto', 'pinturas_de_rosto').replace('polícia militar', 'polícia_militar').replace('ponte dos ingleses', 'ponte_dos_ingleses').replace('ponte metálica', 'ponte_metálica').replace('porto do mucuripe', 'porto_do_mucuripe').replace('pouso do sabiá', 'pouso_do_sabiá').replace('povo da universidade', 'povo_da_universidade').replace('povo do benfica', 'povo_do_benfica').replace('povo do carnaval', 'povo_do_carnaval').replace('praia de iracema', 'praia_de_iracema').replace('praia do futuro', 'praia_do_futuro').replace('praia do lido', 'praia_do_lido').replace('praia do peixe', 'praia_do_peixe').replace('praia dos crush', 'praia_dos_crush').replace('praça da gentilândia', 'praça_da_gentilândia').replace('praça do carmo', 'praça_do_carmo').replace('prefeitura de fortaleza', 'prefeitura_de_fortaleza').replace('programa de erradicação do trabalho infantil', 'programa_de_erradicação_do_trabalho_infantil').replace('projeto um canto em cada canto', 'projeto_um_canto_em_cada_canto').replace('proteção ambiental', 'proteção_ambiental').replace('pré carnaval', 'pré_carnaval').replace('pré-carnaval', 'pré_carnaval').replace('pôr do sol', 'pôr_do_sol').replace('quermesse no mucuripe', 'quermesse_no_mucuripe').replace('questão ambiental', 'questão_ambiental').replace('quinto whisky', 'quinto_whisky').replace('quinze anos', 'quinze_anos').replace('raimundo correia lima (tatá)', 'raimundo_correia_lima_.replace(tatá)').replace('recém-inaugurado', 'recém_inaugurado').replace('renato russo', 'renato_russo').replace('riacho pajeú', 'riacho_pajeú').replace('ricardo bezerra', 'ricardo_bezerra').replace('rio de janeiro', 'rio_de_janeiro').replace('rock projetivo', 'rock_projetivo').replace(\"rock'n roll\", 'rock_n_roll').replace('roda de samba', 'roda_de_samba').replace('rodger rogério', 'rodger_rogério').replace('roqueiro do montese', 'roqueiro_do_montese').replace('rua artur timóteo', 'rua_artur_timóteo').replace('rua joão cordeiro', 'rua_joão_cordeiro').replace('rádio universitária', 'rádio_universitária').replace('sabiá sabia', 'sabiá_sabia').replace('sabiá sabiaguaba', 'sabiá_sabiaguaba').replace('salão de idosos', 'salão_de_idosos').replace('samba canção', 'samba_canção').replace('samba-canção', 'samba_canção').replace('segunda-feira', 'segunda_feira').replace('seu zairton', 'seu_zairton').replace('sinal de trânsito', 'sinal_de_trânsito').replace('sobre a ponte e femme bateau', 'sobre_a_ponte_e_femme_bateau').replace('sul maravilha', 'sul_maravilha').replace('são sebastião', 'são_sebastião').replace('sérgio pinheiro', 'sérgio_pinheiro').replace('sérvulo esmeraldo', 'sérvulo_esmeraldo').replace('súplica cearense', 'súplica_cearense').replace('teatro universitário', 'teatro_universitário').replace('terminal da parangaba', 'terminal_da_parangaba').replace('treze de maio', 'treze_de_maio').replace('trinta anos', 'trinta_anos').replace('tráfico de garotas', 'tráfico_de_garotas').replace('tupi guarani', 'tupi_guarani').replace('turismo sexual', 'turismo_sexual').replace('tv educativa', 'tv_educativa').replace('um sol para cada um', 'um_sol_para_cada_um').replace('vii festival internacional da canção', 'vii_festival_internacional_da_canção').replace('visão social', 'visão_social').replace('válvula de escape', 'válvula_de_escape').replace('zé bezerra', 'zé_bezerra').replace('zé walter', 'zé_walter').replace('ângela linhares', 'ângela_linhares').replace('época de ouro', 'época_de_ouro').replace('órbita bar', 'órbita_bar')"
      ],
      "id": "6F1-_zDFpohr"
    },
    {
      "cell_type": "code",
      "execution_count": null,
      "metadata": {
        "colab": {
          "base_uri": "https://localhost:8080/"
        },
        "id": "2a26cd4b",
        "outputId": "56e565d9-f372-43b1-f1cb-8932cabe2cab"
      },
      "outputs": [
        {
          "output_type": "stream",
          "name": "stderr",
          "text": [
            "/usr/local/lib/python3.7/dist-packages/ipykernel_launcher.py:3: SettingWithCopyWarning: \n",
            "A value is trying to be set on a copy of a slice from a DataFrame.\n",
            "Try using .loc[row_indexer,col_indexer] = value instead\n",
            "\n",
            "See the caveats in the documentation: https://pandas.pydata.org/pandas-docs/stable/user_guide/indexing.html#returning-a-view-versus-a-copy\n",
            "  This is separate from the ipykernel package so we can avoid doing imports until\n",
            "/usr/local/lib/python3.7/dist-packages/ipykernel_launcher.py:4: SettingWithCopyWarning: \n",
            "A value is trying to be set on a copy of a slice from a DataFrame.\n",
            "Try using .loc[row_indexer,col_indexer] = value instead\n",
            "\n",
            "See the caveats in the documentation: https://pandas.pydata.org/pandas-docs/stable/user_guide/indexing.html#returning-a-view-versus-a-copy\n",
            "  after removing the cwd from sys.path.\n"
          ]
        }
      ],
      "source": [
        "# deixar letras de músicas em caixa baixa, criar a coluna '['letras_musicas'] e aplicar função processingTxt\n",
        "\n",
        "df_inspiracao['inspiracao_musica'] = df_inspiracao['inspiração_copia'].str.lower()\n",
        "df_inspiracao['inspiracao_musica'] = df_inspiracao['inspiracao_musica'].fillna('-').apply(lambda x: processingTxt(x))"
      ],
      "id": "2a26cd4b"
    },
    {
      "cell_type": "code",
      "execution_count": null,
      "metadata": {
        "id": "81f2aa78",
        "scrolled": false
      },
      "outputs": [],
      "source": [
        "# aplicar função encontrarPalavras na coluna df_inspiracao['Inspiração']\n",
        "\n",
        "nuvem_inspiracao = encontrarPalavras(df_inspiracao['inspiracao_musica'])"
      ],
      "id": "81f2aa78"
    },
    {
      "cell_type": "code",
      "execution_count": null,
      "metadata": {
        "id": "5427a59a"
      },
      "outputs": [],
      "source": [
        "# agrupar palavras por repetição\n",
        "\n",
        "df_nuvem_inspiracao = nuvem_inspiracao.groupby(by='palavras').sum().sort_values(by='repetições', ascending=False).reset_index()"
      ],
      "id": "5427a59a"
    },
    {
      "cell_type": "code",
      "execution_count": null,
      "metadata": {
        "id": "bf256743"
      },
      "outputs": [],
      "source": [
        "# excluir célula com espaço em branco\n",
        "df_nuvem_inspiracao = df_nuvem_inspiracao[df_nuvem_inspiracao['palavras'] != '']"
      ],
      "id": "bf256743"
    },
    {
      "cell_type": "code",
      "execution_count": null,
      "metadata": {
        "colab": {
          "base_uri": "https://localhost:8080/",
          "height": 206
        },
        "id": "c78bfc4d",
        "outputId": "2391b965-6f62-426f-d9c5-782c5f2e0e91"
      },
      "outputs": [
        {
          "output_type": "execute_result",
          "data": {
            "text/plain": [
              "    palavras  repetições\n",
              "0     música          91\n",
              "1    a gente          61\n",
              "2  fortaleza          39\n",
              "3     cidade          39\n",
              "5     canção          28"
            ],
            "text/html": [
              "\n",
              "  <div id=\"df-ebf58a0a-4206-4fb3-ad50-1621b6c6729a\">\n",
              "    <div class=\"colab-df-container\">\n",
              "      <div>\n",
              "<style scoped>\n",
              "    .dataframe tbody tr th:only-of-type {\n",
              "        vertical-align: middle;\n",
              "    }\n",
              "\n",
              "    .dataframe tbody tr th {\n",
              "        vertical-align: top;\n",
              "    }\n",
              "\n",
              "    .dataframe thead th {\n",
              "        text-align: right;\n",
              "    }\n",
              "</style>\n",
              "<table border=\"1\" class=\"dataframe\">\n",
              "  <thead>\n",
              "    <tr style=\"text-align: right;\">\n",
              "      <th></th>\n",
              "      <th>palavras</th>\n",
              "      <th>repetições</th>\n",
              "    </tr>\n",
              "  </thead>\n",
              "  <tbody>\n",
              "    <tr>\n",
              "      <th>0</th>\n",
              "      <td>música</td>\n",
              "      <td>91</td>\n",
              "    </tr>\n",
              "    <tr>\n",
              "      <th>1</th>\n",
              "      <td>a gente</td>\n",
              "      <td>61</td>\n",
              "    </tr>\n",
              "    <tr>\n",
              "      <th>2</th>\n",
              "      <td>fortaleza</td>\n",
              "      <td>39</td>\n",
              "    </tr>\n",
              "    <tr>\n",
              "      <th>3</th>\n",
              "      <td>cidade</td>\n",
              "      <td>39</td>\n",
              "    </tr>\n",
              "    <tr>\n",
              "      <th>5</th>\n",
              "      <td>canção</td>\n",
              "      <td>28</td>\n",
              "    </tr>\n",
              "  </tbody>\n",
              "</table>\n",
              "</div>\n",
              "      <button class=\"colab-df-convert\" onclick=\"convertToInteractive('df-ebf58a0a-4206-4fb3-ad50-1621b6c6729a')\"\n",
              "              title=\"Convert this dataframe to an interactive table.\"\n",
              "              style=\"display:none;\">\n",
              "        \n",
              "  <svg xmlns=\"http://www.w3.org/2000/svg\" height=\"24px\"viewBox=\"0 0 24 24\"\n",
              "       width=\"24px\">\n",
              "    <path d=\"M0 0h24v24H0V0z\" fill=\"none\"/>\n",
              "    <path d=\"M18.56 5.44l.94 2.06.94-2.06 2.06-.94-2.06-.94-.94-2.06-.94 2.06-2.06.94zm-11 1L8.5 8.5l.94-2.06 2.06-.94-2.06-.94L8.5 2.5l-.94 2.06-2.06.94zm10 10l.94 2.06.94-2.06 2.06-.94-2.06-.94-.94-2.06-.94 2.06-2.06.94z\"/><path d=\"M17.41 7.96l-1.37-1.37c-.4-.4-.92-.59-1.43-.59-.52 0-1.04.2-1.43.59L10.3 9.45l-7.72 7.72c-.78.78-.78 2.05 0 2.83L4 21.41c.39.39.9.59 1.41.59.51 0 1.02-.2 1.41-.59l7.78-7.78 2.81-2.81c.8-.78.8-2.07 0-2.86zM5.41 20L4 18.59l7.72-7.72 1.47 1.35L5.41 20z\"/>\n",
              "  </svg>\n",
              "      </button>\n",
              "      \n",
              "  <style>\n",
              "    .colab-df-container {\n",
              "      display:flex;\n",
              "      flex-wrap:wrap;\n",
              "      gap: 12px;\n",
              "    }\n",
              "\n",
              "    .colab-df-convert {\n",
              "      background-color: #E8F0FE;\n",
              "      border: none;\n",
              "      border-radius: 50%;\n",
              "      cursor: pointer;\n",
              "      display: none;\n",
              "      fill: #1967D2;\n",
              "      height: 32px;\n",
              "      padding: 0 0 0 0;\n",
              "      width: 32px;\n",
              "    }\n",
              "\n",
              "    .colab-df-convert:hover {\n",
              "      background-color: #E2EBFA;\n",
              "      box-shadow: 0px 1px 2px rgba(60, 64, 67, 0.3), 0px 1px 3px 1px rgba(60, 64, 67, 0.15);\n",
              "      fill: #174EA6;\n",
              "    }\n",
              "\n",
              "    [theme=dark] .colab-df-convert {\n",
              "      background-color: #3B4455;\n",
              "      fill: #D2E3FC;\n",
              "    }\n",
              "\n",
              "    [theme=dark] .colab-df-convert:hover {\n",
              "      background-color: #434B5C;\n",
              "      box-shadow: 0px 1px 3px 1px rgba(0, 0, 0, 0.15);\n",
              "      filter: drop-shadow(0px 1px 2px rgba(0, 0, 0, 0.3));\n",
              "      fill: #FFFFFF;\n",
              "    }\n",
              "  </style>\n",
              "\n",
              "      <script>\n",
              "        const buttonEl =\n",
              "          document.querySelector('#df-ebf58a0a-4206-4fb3-ad50-1621b6c6729a button.colab-df-convert');\n",
              "        buttonEl.style.display =\n",
              "          google.colab.kernel.accessAllowed ? 'block' : 'none';\n",
              "\n",
              "        async function convertToInteractive(key) {\n",
              "          const element = document.querySelector('#df-ebf58a0a-4206-4fb3-ad50-1621b6c6729a');\n",
              "          const dataTable =\n",
              "            await google.colab.kernel.invokeFunction('convertToInteractive',\n",
              "                                                     [key], {});\n",
              "          if (!dataTable) return;\n",
              "\n",
              "          const docLinkHtml = 'Like what you see? Visit the ' +\n",
              "            '<a target=\"_blank\" href=https://colab.research.google.com/notebooks/data_table.ipynb>data table notebook</a>'\n",
              "            + ' to learn more about interactive tables.';\n",
              "          element.innerHTML = '';\n",
              "          dataTable['output_type'] = 'display_data';\n",
              "          await google.colab.output.renderOutput(dataTable, element);\n",
              "          const docLink = document.createElement('div');\n",
              "          docLink.innerHTML = docLinkHtml;\n",
              "          element.appendChild(docLink);\n",
              "        }\n",
              "      </script>\n",
              "    </div>\n",
              "  </div>\n",
              "  "
            ]
          },
          "metadata": {},
          "execution_count": 27
        }
      ],
      "source": [
        "# visualizar palavras mais repetidas\n",
        "\n",
        "df_nuvem_inspiracao.head()"
      ],
      "id": "c78bfc4d"
    },
    {
      "cell_type": "code",
      "source": [
        "# total de palavras\n",
        "df_nuvem_inspiracao['palavras'].nunique()"
      ],
      "metadata": {
        "colab": {
          "base_uri": "https://localhost:8080/"
        },
        "id": "3FrjNKBMraBX",
        "outputId": "2aa99d6a-263a-4586-8180-fd2cd18b2b63"
      },
      "id": "3FrjNKBMraBX",
      "execution_count": null,
      "outputs": [
        {
          "output_type": "execute_result",
          "data": {
            "text/plain": [
              "2007"
            ]
          },
          "metadata": {},
          "execution_count": 28
        }
      ]
    },
    {
      "cell_type": "code",
      "source": [
        "# total de palavras que se repetem\n",
        "df_nuvem_inspiracao[df_nuvem_inspiracao['repetições'] != 1]['palavras'].nunique()"
      ],
      "metadata": {
        "colab": {
          "base_uri": "https://localhost:8080/"
        },
        "id": "3serOVXvtqVG",
        "outputId": "55a7cdfe-4f25-42dc-9554-2870730b2135"
      },
      "id": "3serOVXvtqVG",
      "execution_count": null,
      "outputs": [
        {
          "output_type": "execute_result",
          "data": {
            "text/plain": [
              "735"
            ]
          },
          "metadata": {},
          "execution_count": 29
        }
      ]
    },
    {
      "cell_type": "code",
      "source": [
        "# total de palavras com ocorrência única\n",
        "df_nuvem_inspiracao[df_nuvem_inspiracao['repetições'] == 1]['palavras'].nunique()"
      ],
      "metadata": {
        "colab": {
          "base_uri": "https://localhost:8080/"
        },
        "id": "5As4Ffq0tsrl",
        "outputId": "81683c62-be6b-4e05-9611-52cf829a8751"
      },
      "id": "5As4Ffq0tsrl",
      "execution_count": null,
      "outputs": [
        {
          "output_type": "execute_result",
          "data": {
            "text/plain": [
              "1272"
            ]
          },
          "metadata": {},
          "execution_count": 30
        }
      ]
    },
    {
      "cell_type": "code",
      "execution_count": null,
      "metadata": {
        "id": "082a5e46"
      },
      "outputs": [],
      "source": [
        "# salvar arquivo em .csv\n",
        "\n",
        "df_nuvem_inspiracao.to_csv('df_nuvem_inspiracao.csv', sep=',', encoding='utf-8', index=False)"
      ],
      "id": "082a5e46"
    },
    {
      "cell_type": "markdown",
      "metadata": {
        "id": "e8eb9b56"
      },
      "source": [
        "## Encontrando os bairros de Fortaleza mais cantados  <a name=\"bairros\"></a>"
      ],
      "id": "e8eb9b56"
    },
    {
      "cell_type": "markdown",
      "source": [
        "### Quantidade de músicas por bairros <a name=\"quantidade\"></a>"
      ],
      "metadata": {
        "id": "AX6qHMWPU9Oh"
      },
      "id": "AX6qHMWPU9Oh"
    },
    {
      "cell_type": "code",
      "execution_count": null,
      "metadata": {
        "id": "14237159",
        "scrolled": false
      },
      "outputs": [],
      "source": [
        "# criar dataframe com filtro de colunas para visualizar os bairros cantados em cada período\n",
        "\n",
        "musica_ano = arquivo[['Ano', 'Autoria', 'Nome da música', 'musica', 'Bairro', 'Latitude', 'Longitude', 'idYT']]"
      ],
      "id": "14237159"
    },
    {
      "cell_type": "code",
      "execution_count": null,
      "metadata": {
        "id": "ea24cacc",
        "colab": {
          "base_uri": "https://localhost:8080/"
        },
        "outputId": "cb4e8846-0930-4401-d365-24be27dfd3b6"
      },
      "outputs": [
        {
          "output_type": "stream",
          "name": "stderr",
          "text": [
            "/usr/local/lib/python3.7/dist-packages/ipykernel_launcher.py:2: SettingWithCopyWarning: \n",
            "A value is trying to be set on a copy of a slice from a DataFrame.\n",
            "Try using .loc[row_indexer,col_indexer] = value instead\n",
            "\n",
            "See the caveats in the documentation: https://pandas.pydata.org/pandas-docs/stable/user_guide/indexing.html#returning-a-view-versus-a-copy\n",
            "  \n"
          ]
        }
      ],
      "source": [
        "# transformar 'Ano' em int\n",
        "musica_ano['Ano'] = musica_ano['Ano'].astype(int)"
      ],
      "id": "ea24cacc"
    },
    {
      "cell_type": "code",
      "execution_count": null,
      "metadata": {
        "id": "18103e47"
      },
      "outputs": [],
      "source": [
        "bairros_fortaleza = pd.read_csv('arquivo_bairros_fortaleza.csv') \n",
        "# Fonte do arquivo: mapas.fortaleza.ce.gov.br\n",
        "bairros_fortaleza['the_geom'] = gpd.GeoSeries.from_wkt(bairros_fortaleza['the_geom'])\n",
        "gBairros = gpd.GeoDataFrame(bairros_fortaleza, geometry='the_geom') "
      ],
      "id": "18103e47"
    },
    {
      "cell_type": "code",
      "execution_count": null,
      "metadata": {
        "id": "H_XnuL6D5DVQ"
      },
      "outputs": [],
      "source": [
        "def getBairro(Point, coluna_desejada_gBairros):\n",
        "    query = gBairros[gBairros['the_geom'].contains(Point)]\n",
        "    if query.shape[0] > 0:\n",
        "        return query.iloc[0][coluna_desejada_gBairros]\n",
        "    else:\n",
        "        return 'Não identificado'"
      ],
      "id": "H_XnuL6D5DVQ"
    },
    {
      "cell_type": "code",
      "execution_count": null,
      "metadata": {
        "id": "lofqOTPz5DXl",
        "colab": {
          "base_uri": "https://localhost:8080/"
        },
        "outputId": "72ff29b3-f1e5-4296-a8d0-226f8c5221ca"
      },
      "outputs": [
        {
          "output_type": "stream",
          "name": "stderr",
          "text": [
            "/usr/local/lib/python3.7/dist-packages/ipykernel_launcher.py:1: SettingWithCopyWarning: \n",
            "A value is trying to be set on a copy of a slice from a DataFrame.\n",
            "Try using .loc[row_indexer,col_indexer] = value instead\n",
            "\n",
            "See the caveats in the documentation: https://pandas.pydata.org/pandas-docs/stable/user_guide/indexing.html#returning-a-view-versus-a-copy\n",
            "  \"\"\"Entry point for launching an IPython kernel.\n",
            "/usr/local/lib/python3.7/dist-packages/ipykernel_launcher.py:2: SettingWithCopyWarning: \n",
            "A value is trying to be set on a copy of a slice from a DataFrame.\n",
            "Try using .loc[row_indexer,col_indexer] = value instead\n",
            "\n",
            "See the caveats in the documentation: https://pandas.pydata.org/pandas-docs/stable/user_guide/indexing.html#returning-a-view-versus-a-copy\n",
            "  \n"
          ]
        }
      ],
      "source": [
        "musica_ano['Latitude'] = musica_ano['Latitude'].astype('float')\n",
        "musica_ano['Longitude'] = musica_ano['Longitude'].apply(lambda x: str(x).split(',')[0]).astype('float')"
      ],
      "id": "lofqOTPz5DXl"
    },
    {
      "cell_type": "code",
      "execution_count": null,
      "metadata": {
        "id": "6JxQxo_x5DZr",
        "colab": {
          "base_uri": "https://localhost:8080/"
        },
        "outputId": "0a6788f6-a773-4496-c6ef-550ffeeb3790"
      },
      "outputs": [
        {
          "output_type": "stream",
          "name": "stderr",
          "text": [
            "/usr/local/lib/python3.7/dist-packages/pandas/core/dtypes/cast.py:118: ShapelyDeprecationWarning: The array interface is deprecated and will no longer work in Shapely 2.0. Convert the '.coords' to a numpy array instead.\n",
            "  arr = construct_1d_object_array_from_listlike(values)\n",
            "/usr/local/lib/python3.7/dist-packages/ipykernel_launcher.py:1: SettingWithCopyWarning: \n",
            "A value is trying to be set on a copy of a slice from a DataFrame.\n",
            "Try using .loc[row_indexer,col_indexer] = value instead\n",
            "\n",
            "See the caveats in the documentation: https://pandas.pydata.org/pandas-docs/stable/user_guide/indexing.html#returning-a-view-versus-a-copy\n",
            "  \"\"\"Entry point for launching an IPython kernel.\n"
          ]
        }
      ],
      "source": [
        "musica_ano['Point'] = musica_ano.apply(lambda x: Point(x['Longitude'],x['Latitude']), axis=1)"
      ],
      "id": "6JxQxo_x5DZr"
    },
    {
      "cell_type": "code",
      "execution_count": null,
      "metadata": {
        "id": "BDBNw66r5hlA",
        "colab": {
          "base_uri": "https://localhost:8080/"
        },
        "outputId": "c9007ecb-2b45-4474-f14f-b4efff0a13e5"
      },
      "outputs": [
        {
          "output_type": "stream",
          "name": "stderr",
          "text": [
            "/usr/local/lib/python3.7/dist-packages/ipykernel_launcher.py:1: SettingWithCopyWarning: \n",
            "A value is trying to be set on a copy of a slice from a DataFrame.\n",
            "Try using .loc[row_indexer,col_indexer] = value instead\n",
            "\n",
            "See the caveats in the documentation: https://pandas.pydata.org/pandas-docs/stable/user_guide/indexing.html#returning-a-view-versus-a-copy\n",
            "  \"\"\"Entry point for launching an IPython kernel.\n",
            "/usr/local/lib/python3.7/dist-packages/ipykernel_launcher.py:2: SettingWithCopyWarning: \n",
            "A value is trying to be set on a copy of a slice from a DataFrame.\n",
            "Try using .loc[row_indexer,col_indexer] = value instead\n",
            "\n",
            "See the caveats in the documentation: https://pandas.pydata.org/pandas-docs/stable/user_guide/indexing.html#returning-a-view-versus-a-copy\n",
            "  \n"
          ]
        }
      ],
      "source": [
        "musica_ano['bairro_name'] = musica_ano.apply(lambda x: getBairro(x['Point'],'bairro'), axis=1)\n",
        "musica_ano['bairro_GID'] = musica_ano.apply(lambda x: getBairro(x['Point'],'GID'), axis=1) "
      ],
      "id": "BDBNw66r5hlA"
    },
    {
      "cell_type": "code",
      "source": [
        "musica_ano['comparacao'] = np.where(musica_ano['Bairro'] == musica_ano['bairro_name'], True, False)\n"
      ],
      "metadata": {
        "id": "StVy0XVKKWu4",
        "colab": {
          "base_uri": "https://localhost:8080/"
        },
        "outputId": "8003dab3-b029-4c67-f012-741772dd315e"
      },
      "id": "StVy0XVKKWu4",
      "execution_count": null,
      "outputs": [
        {
          "output_type": "stream",
          "name": "stderr",
          "text": [
            "/usr/local/lib/python3.7/dist-packages/ipykernel_launcher.py:1: SettingWithCopyWarning: \n",
            "A value is trying to be set on a copy of a slice from a DataFrame.\n",
            "Try using .loc[row_indexer,col_indexer] = value instead\n",
            "\n",
            "See the caveats in the documentation: https://pandas.pydata.org/pandas-docs/stable/user_guide/indexing.html#returning-a-view-versus-a-copy\n",
            "  \"\"\"Entry point for launching an IPython kernel.\n"
          ]
        }
      ]
    },
    {
      "cell_type": "code",
      "source": [
        "musica_ano.to_csv('musica_bairros_calculados.csv', index=False)"
      ],
      "metadata": {
        "id": "JTGtJfwDcerI"
      },
      "id": "JTGtJfwDcerI",
      "execution_count": null,
      "outputs": []
    },
    {
      "cell_type": "code",
      "source": [
        "# musica_ano[musica_ano['comparacao'] == False]"
      ],
      "metadata": {
        "id": "Uy5KaXaML3Lo"
      },
      "id": "Uy5KaXaML3Lo",
      "execution_count": null,
      "outputs": []
    },
    {
      "cell_type": "code",
      "execution_count": null,
      "metadata": {
        "id": "UUEkzMUF5nF1"
      },
      "outputs": [],
      "source": [
        "bairros_identificados = musica_ano[musica_ano['bairro_name'] != 'Não identificado']\n",
        "# bairros_identificados.head()"
      ],
      "id": "UUEkzMUF5nF1"
    },
    {
      "cell_type": "code",
      "source": [
        "# encontrando o total de músicas\n",
        "total_musicas = musica_ano['bairro_name'].value_counts().rename_axis('Bairros').to_frame('Total de músicas').reset_index()['Total de músicas'].sum()"
      ],
      "metadata": {
        "id": "Z1dnDmpANfcS"
      },
      "id": "Z1dnDmpANfcS",
      "execution_count": null,
      "outputs": []
    },
    {
      "cell_type": "code",
      "source": [
        "# encontrando o número de músicas cujos bairros foram identificados\n",
        "musicas_bairros_identificados = bairros_identificados['bairro_name'].value_counts().rename_axis('Bairros').to_frame('Total de músicas').reset_index()['Total de músicas'].sum()"
      ],
      "metadata": {
        "id": "sY-x33smNyTP"
      },
      "id": "sY-x33smNyTP",
      "execution_count": null,
      "outputs": []
    },
    {
      "cell_type": "code",
      "source": [
        "print('Entre o total de', total_musicas,'músicas presentes na base de dados do Fortaleza em música,', musicas_bairros_identificados,'têm identificação dos bairros.')"
      ],
      "metadata": {
        "colab": {
          "base_uri": "https://localhost:8080/"
        },
        "id": "rVFuZp6AM4wr",
        "outputId": "43c661f8-8804-4fd2-d780-6141f3deb0b3"
      },
      "id": "rVFuZp6AM4wr",
      "execution_count": null,
      "outputs": [
        {
          "output_type": "stream",
          "name": "stdout",
          "text": [
            "Entre o total de 79 músicas presentes na base de dados do Fortaleza em música, 73 têm identificação dos bairros.\n"
          ]
        }
      ]
    },
    {
      "cell_type": "code",
      "source": [
        "df_bairros_identificados = bairros_identificados[['bairro_name', 'musica']].groupby(by=['bairro_name']).count().sort_values(by='musica', ascending=False).reset_index()"
      ],
      "metadata": {
        "id": "2vo8Yh1uMxSw"
      },
      "id": "2vo8Yh1uMxSw",
      "execution_count": null,
      "outputs": []
    },
    {
      "cell_type": "code",
      "source": [
        "# encontrando os três bairros mais cantados\n",
        "# df_bairros_identificados[0:3]"
      ],
      "metadata": {
        "id": "Q_f0-1Z5Pv_M"
      },
      "id": "Q_f0-1Z5Pv_M",
      "execution_count": null,
      "outputs": []
    },
    {
      "cell_type": "code",
      "source": [
        "# Desde quando esses três bairros mais cantados aparecem nas canções?\n",
        "\n",
        "# bairros_identificados[['Ano', 'musica', 'bairro_name']][(bairros_identificados['bairro_name'] == 'Praia de Iracema') | (bairros_identificados['bairro_name'] == 'Mucuripe') | (bairros_identificados['bairro_name'] == 'Centro')].sort_values(by='Ano').head()"
      ],
      "metadata": {
        "id": "1sAxBmtPZ4LK"
      },
      "id": "1sAxBmtPZ4LK",
      "execution_count": null,
      "outputs": []
    },
    {
      "cell_type": "code",
      "source": [
        "# total de músicas que corespondem aos bairros mais cantados (Centro, Praia de Iracema e Mucuripe)\n",
        "bairros_mais_cantados = df_bairros_identificados[0:3]['musica'].sum()\n",
        "bairros_mais_cantados"
      ],
      "metadata": {
        "colab": {
          "base_uri": "https://localhost:8080/"
        },
        "id": "VyhEhq2DPQ78",
        "outputId": "b013b46c-5873-47e7-ea55-a602fcbf42a9"
      },
      "id": "VyhEhq2DPQ78",
      "execution_count": null,
      "outputs": [
        {
          "output_type": "execute_result",
          "data": {
            "text/plain": [
              "29"
            ]
          },
          "metadata": {},
          "execution_count": 49
        }
      ]
    },
    {
      "cell_type": "code",
      "source": [
        "# total de músicas que corespondem aos outros bairros, exceto os mais cantados, para checar o total\n",
        "demais_bairros = df_bairros_identificados[3:26]['musica'].sum()\n",
        "demais_bairros"
      ],
      "metadata": {
        "colab": {
          "base_uri": "https://localhost:8080/"
        },
        "id": "Kle0p4BuPaek",
        "outputId": "507d52bc-7e0b-4b81-91d8-b3e3e644a98f"
      },
      "id": "Kle0p4BuPaek",
      "execution_count": null,
      "outputs": [
        {
          "output_type": "execute_result",
          "data": {
            "text/plain": [
              "44"
            ]
          },
          "metadata": {},
          "execution_count": 50
        }
      ]
    },
    {
      "cell_type": "code",
      "source": [
        "# encontrando o percentual das músicas que se referem aos principais bairros, em relação ao total de músicas com bairros identificados\n",
        "print('As músicas que cantam Centro, Praia de Iracema e Mucuripe correspondem aproximadamente a', round(bairros_mais_cantados/musicas_bairros_identificados*100,0), '% do total das músicas com bairros identificados')"
      ],
      "metadata": {
        "colab": {
          "base_uri": "https://localhost:8080/"
        },
        "id": "6FYB8f6PQNKt",
        "outputId": "554745df-6877-42fc-c028-a76e66ab9c3c"
      },
      "id": "6FYB8f6PQNKt",
      "execution_count": null,
      "outputs": [
        {
          "output_type": "stream",
          "name": "stdout",
          "text": [
            "As músicas que cantam Centro, Praia de Iracema e Mucuripe correspondem aproximadamente a 40.0 % do total das músicas com bairros identificados\n"
          ]
        }
      ]
    },
    {
      "cell_type": "code",
      "execution_count": null,
      "metadata": {
        "id": "J3XdLEwyHCIq"
      },
      "outputs": [],
      "source": [
        "# salvar arquivo .csv para visualização\n",
        "df_bairros_identificados.to_csv('df_musicas_por_bairros.csv', sep=',', encoding='utf-8', index=False)"
      ],
      "id": "J3XdLEwyHCIq"
    },
    {
      "cell_type": "markdown",
      "source": [
        "### E agora também por período  <a name=\"período\"></a>"
      ],
      "metadata": {
        "id": "SiM2_WJeVLdV"
      },
      "id": "SiM2_WJeVLdV"
    },
    {
      "cell_type": "code",
      "source": [
        "bairros_identificados.info()"
      ],
      "metadata": {
        "colab": {
          "base_uri": "https://localhost:8080/"
        },
        "id": "SSur2aiAWkyC",
        "outputId": "4214a090-04d7-4da6-ab9c-44415ba4342b"
      },
      "id": "SSur2aiAWkyC",
      "execution_count": null,
      "outputs": [
        {
          "output_type": "stream",
          "name": "stdout",
          "text": [
            "<class 'pandas.core.frame.DataFrame'>\n",
            "Int64Index: 73 entries, 0 to 78\n",
            "Data columns (total 12 columns):\n",
            " #   Column          Non-Null Count  Dtype  \n",
            "---  ------          --------------  -----  \n",
            " 0   Ano             73 non-null     int64  \n",
            " 1   Autoria         73 non-null     object \n",
            " 2   Nome da música  73 non-null     object \n",
            " 3   musica          73 non-null     object \n",
            " 4   Bairro          73 non-null     object \n",
            " 5   Latitude        73 non-null     float64\n",
            " 6   Longitude       73 non-null     float64\n",
            " 7   idYT            73 non-null     object \n",
            " 8   Point           73 non-null     object \n",
            " 9   bairro_name     73 non-null     object \n",
            " 10  bairro_GID      73 non-null     object \n",
            " 11  comparacao      73 non-null     bool   \n",
            "dtypes: bool(1), float64(2), int64(1), object(8)\n",
            "memory usage: 6.9+ KB\n"
          ]
        }
      ]
    },
    {
      "cell_type": "code",
      "execution_count": null,
      "metadata": {
        "id": "1cfd2e76",
        "colab": {
          "base_uri": "https://localhost:8080/"
        },
        "outputId": "be1af880-ec6d-49b2-99f6-2d3b736f805e"
      },
      "outputs": [
        {
          "output_type": "stream",
          "name": "stderr",
          "text": [
            "/usr/local/lib/python3.7/dist-packages/ipykernel_launcher.py:4: SettingWithCopyWarning: \n",
            "A value is trying to be set on a copy of a slice from a DataFrame.\n",
            "Try using .loc[row_indexer,col_indexer] = value instead\n",
            "\n",
            "See the caveats in the documentation: https://pandas.pydata.org/pandas-docs/stable/user_guide/indexing.html#returning-a-view-versus-a-copy\n",
            "  after removing the cwd from sys.path.\n",
            "/usr/local/lib/python3.7/dist-packages/ipykernel_launcher.py:7: SettingWithCopyWarning: \n",
            "A value is trying to be set on a copy of a slice from a DataFrame.\n",
            "Try using .loc[row_indexer,col_indexer] = value instead\n",
            "\n",
            "See the caveats in the documentation: https://pandas.pydata.org/pandas-docs/stable/user_guide/indexing.html#returning-a-view-versus-a-copy\n",
            "  import sys\n",
            "/usr/local/lib/python3.7/dist-packages/ipykernel_launcher.py:10: SettingWithCopyWarning: \n",
            "A value is trying to be set on a copy of a slice from a DataFrame.\n",
            "Try using .loc[row_indexer,col_indexer] = value instead\n",
            "\n",
            "See the caveats in the documentation: https://pandas.pydata.org/pandas-docs/stable/user_guide/indexing.html#returning-a-view-versus-a-copy\n",
            "  # Remove the CWD from sys.path while we load stuff.\n",
            "/usr/local/lib/python3.7/dist-packages/ipykernel_launcher.py:13: SettingWithCopyWarning: \n",
            "A value is trying to be set on a copy of a slice from a DataFrame.\n",
            "Try using .loc[row_indexer,col_indexer] = value instead\n",
            "\n",
            "See the caveats in the documentation: https://pandas.pydata.org/pandas-docs/stable/user_guide/indexing.html#returning-a-view-versus-a-copy\n",
            "  del sys.path[0]\n",
            "/usr/local/lib/python3.7/dist-packages/ipykernel_launcher.py:16: SettingWithCopyWarning: \n",
            "A value is trying to be set on a copy of a slice from a DataFrame.\n",
            "Try using .loc[row_indexer,col_indexer] = value instead\n",
            "\n",
            "See the caveats in the documentation: https://pandas.pydata.org/pandas-docs/stable/user_guide/indexing.html#returning-a-view-versus-a-copy\n",
            "  app.launch_new_instance()\n",
            "/usr/local/lib/python3.7/dist-packages/ipykernel_launcher.py:19: SettingWithCopyWarning: \n",
            "A value is trying to be set on a copy of a slice from a DataFrame.\n",
            "Try using .loc[row_indexer,col_indexer] = value instead\n",
            "\n",
            "See the caveats in the documentation: https://pandas.pydata.org/pandas-docs/stable/user_guide/indexing.html#returning-a-view-versus-a-copy\n",
            "/usr/local/lib/python3.7/dist-packages/ipykernel_launcher.py:22: SettingWithCopyWarning: \n",
            "A value is trying to be set on a copy of a slice from a DataFrame.\n",
            "Try using .loc[row_indexer,col_indexer] = value instead\n",
            "\n",
            "See the caveats in the documentation: https://pandas.pydata.org/pandas-docs/stable/user_guide/indexing.html#returning-a-view-versus-a-copy\n"
          ]
        }
      ],
      "source": [
        "# criar coluna de década\n",
        "\n",
        "musicas_1960 = bairros_identificados[bairros_identificados['Ano'] == 1969]\n",
        "musicas_1960['Década'] = '1960'\n",
        "\n",
        "musicas_1970 = bairros_identificados[bairros_identificados['Ano'].isin([1970, 1972, 1974, 1976, 1978, 1979])]\n",
        "musicas_1970['Década'] = '1970'\n",
        "\n",
        "musicas_1980 = bairros_identificados[bairros_identificados['Ano'].isin([1980, 1988])]\n",
        "musicas_1980['Década'] = '1980'\n",
        "\n",
        "musicas_1990 = bairros_identificados[bairros_identificados['Ano'].isin([1990, 1993, 1994, 1996])]\n",
        "musicas_1990['Década'] = '1990'\n",
        "\n",
        "musicas_2000 = bairros_identificados[bairros_identificados['Ano'].isin([2000, 2002, 2003, 2004, 2005, 2007, 2008, 2009])]\n",
        "musicas_2000['Década'] = '2000'\n",
        "\n",
        "musicas_2010 = bairros_identificados[bairros_identificados['Ano'].isin([2010, 2011, 2012, 2013, 2019, 2015, 2016, 2017, 2018])]\n",
        "musicas_2010['Década'] = '2010'\n",
        "\n",
        "musicas_2020 = bairros_identificados[bairros_identificados['Ano'].isin([2020, 2021])]\n",
        "musicas_2020['Década'] = '2020'"
      ],
      "id": "1cfd2e76"
    },
    {
      "cell_type": "code",
      "execution_count": null,
      "metadata": {
        "id": "e4615d27"
      },
      "outputs": [],
      "source": [
        "# concatenar dataframes anteriores\n",
        "df_musicas_decadas = pd.concat([musicas_1960, musicas_1970, musicas_1980, musicas_1990, musicas_2000, musicas_2010, musicas_2020])"
      ],
      "id": "e4615d27"
    },
    {
      "cell_type": "code",
      "source": [
        "# df_musicas_decadas[['Década', 'bairro_name', 'musica']].groupby(by='Década').nunique().reset_index()"
      ],
      "metadata": {
        "id": "4jXv_BSMZU5u"
      },
      "id": "4jXv_BSMZU5u",
      "execution_count": null,
      "outputs": []
    },
    {
      "cell_type": "code",
      "execution_count": null,
      "metadata": {
        "colab": {
          "base_uri": "https://localhost:8080/",
          "height": 206
        },
        "id": "cfb73d3a",
        "outputId": "4f9d49d9-2d57-4c46-d4ae-48460bd4f539"
      },
      "outputs": [
        {
          "output_type": "execute_result",
          "data": {
            "text/plain": [
              "     Ano                                             musica        bairro_name\n",
              "7   1972                             Beira Mar, por Ednardo           Meireles\n",
              "14  1979  Brincando É Que Se Aprende, por Dominguinhos e...            Aldeota\n",
              "43  1978                     Maraponga, por Ricardo Bezerra          Parangaba\n",
              "65  1972                                Terral, por Ednardo  Praia do Futuro I\n",
              "23  1996                      Cinema Noir, por Mona Gadelha  Praia do Futuro I"
            ],
            "text/html": [
              "\n",
              "  <div id=\"df-4c9a2dec-200e-4a71-a855-1505cc8e3f11\">\n",
              "    <div class=\"colab-df-container\">\n",
              "      <div>\n",
              "<style scoped>\n",
              "    .dataframe tbody tr th:only-of-type {\n",
              "        vertical-align: middle;\n",
              "    }\n",
              "\n",
              "    .dataframe tbody tr th {\n",
              "        vertical-align: top;\n",
              "    }\n",
              "\n",
              "    .dataframe thead th {\n",
              "        text-align: right;\n",
              "    }\n",
              "</style>\n",
              "<table border=\"1\" class=\"dataframe\">\n",
              "  <thead>\n",
              "    <tr style=\"text-align: right;\">\n",
              "      <th></th>\n",
              "      <th>Ano</th>\n",
              "      <th>musica</th>\n",
              "      <th>bairro_name</th>\n",
              "    </tr>\n",
              "  </thead>\n",
              "  <tbody>\n",
              "    <tr>\n",
              "      <th>7</th>\n",
              "      <td>1972</td>\n",
              "      <td>Beira Mar, por Ednardo</td>\n",
              "      <td>Meireles</td>\n",
              "    </tr>\n",
              "    <tr>\n",
              "      <th>14</th>\n",
              "      <td>1979</td>\n",
              "      <td>Brincando É Que Se Aprende, por Dominguinhos e...</td>\n",
              "      <td>Aldeota</td>\n",
              "    </tr>\n",
              "    <tr>\n",
              "      <th>43</th>\n",
              "      <td>1978</td>\n",
              "      <td>Maraponga, por Ricardo Bezerra</td>\n",
              "      <td>Parangaba</td>\n",
              "    </tr>\n",
              "    <tr>\n",
              "      <th>65</th>\n",
              "      <td>1972</td>\n",
              "      <td>Terral, por Ednardo</td>\n",
              "      <td>Praia do Futuro I</td>\n",
              "    </tr>\n",
              "    <tr>\n",
              "      <th>23</th>\n",
              "      <td>1996</td>\n",
              "      <td>Cinema Noir, por Mona Gadelha</td>\n",
              "      <td>Praia do Futuro I</td>\n",
              "    </tr>\n",
              "  </tbody>\n",
              "</table>\n",
              "</div>\n",
              "      <button class=\"colab-df-convert\" onclick=\"convertToInteractive('df-4c9a2dec-200e-4a71-a855-1505cc8e3f11')\"\n",
              "              title=\"Convert this dataframe to an interactive table.\"\n",
              "              style=\"display:none;\">\n",
              "        \n",
              "  <svg xmlns=\"http://www.w3.org/2000/svg\" height=\"24px\"viewBox=\"0 0 24 24\"\n",
              "       width=\"24px\">\n",
              "    <path d=\"M0 0h24v24H0V0z\" fill=\"none\"/>\n",
              "    <path d=\"M18.56 5.44l.94 2.06.94-2.06 2.06-.94-2.06-.94-.94-2.06-.94 2.06-2.06.94zm-11 1L8.5 8.5l.94-2.06 2.06-.94-2.06-.94L8.5 2.5l-.94 2.06-2.06.94zm10 10l.94 2.06.94-2.06 2.06-.94-2.06-.94-.94-2.06-.94 2.06-2.06.94z\"/><path d=\"M17.41 7.96l-1.37-1.37c-.4-.4-.92-.59-1.43-.59-.52 0-1.04.2-1.43.59L10.3 9.45l-7.72 7.72c-.78.78-.78 2.05 0 2.83L4 21.41c.39.39.9.59 1.41.59.51 0 1.02-.2 1.41-.59l7.78-7.78 2.81-2.81c.8-.78.8-2.07 0-2.86zM5.41 20L4 18.59l7.72-7.72 1.47 1.35L5.41 20z\"/>\n",
              "  </svg>\n",
              "      </button>\n",
              "      \n",
              "  <style>\n",
              "    .colab-df-container {\n",
              "      display:flex;\n",
              "      flex-wrap:wrap;\n",
              "      gap: 12px;\n",
              "    }\n",
              "\n",
              "    .colab-df-convert {\n",
              "      background-color: #E8F0FE;\n",
              "      border: none;\n",
              "      border-radius: 50%;\n",
              "      cursor: pointer;\n",
              "      display: none;\n",
              "      fill: #1967D2;\n",
              "      height: 32px;\n",
              "      padding: 0 0 0 0;\n",
              "      width: 32px;\n",
              "    }\n",
              "\n",
              "    .colab-df-convert:hover {\n",
              "      background-color: #E2EBFA;\n",
              "      box-shadow: 0px 1px 2px rgba(60, 64, 67, 0.3), 0px 1px 3px 1px rgba(60, 64, 67, 0.15);\n",
              "      fill: #174EA6;\n",
              "    }\n",
              "\n",
              "    [theme=dark] .colab-df-convert {\n",
              "      background-color: #3B4455;\n",
              "      fill: #D2E3FC;\n",
              "    }\n",
              "\n",
              "    [theme=dark] .colab-df-convert:hover {\n",
              "      background-color: #434B5C;\n",
              "      box-shadow: 0px 1px 3px 1px rgba(0, 0, 0, 0.15);\n",
              "      filter: drop-shadow(0px 1px 2px rgba(0, 0, 0, 0.3));\n",
              "      fill: #FFFFFF;\n",
              "    }\n",
              "  </style>\n",
              "\n",
              "      <script>\n",
              "        const buttonEl =\n",
              "          document.querySelector('#df-4c9a2dec-200e-4a71-a855-1505cc8e3f11 button.colab-df-convert');\n",
              "        buttonEl.style.display =\n",
              "          google.colab.kernel.accessAllowed ? 'block' : 'none';\n",
              "\n",
              "        async function convertToInteractive(key) {\n",
              "          const element = document.querySelector('#df-4c9a2dec-200e-4a71-a855-1505cc8e3f11');\n",
              "          const dataTable =\n",
              "            await google.colab.kernel.invokeFunction('convertToInteractive',\n",
              "                                                     [key], {});\n",
              "          if (!dataTable) return;\n",
              "\n",
              "          const docLinkHtml = 'Like what you see? Visit the ' +\n",
              "            '<a target=\"_blank\" href=https://colab.research.google.com/notebooks/data_table.ipynb>data table notebook</a>'\n",
              "            + ' to learn more about interactive tables.';\n",
              "          element.innerHTML = '';\n",
              "          dataTable['output_type'] = 'display_data';\n",
              "          await google.colab.output.renderOutput(dataTable, element);\n",
              "          const docLink = document.createElement('div');\n",
              "          docLink.innerHTML = docLinkHtml;\n",
              "          element.appendChild(docLink);\n",
              "        }\n",
              "      </script>\n",
              "    </div>\n",
              "  </div>\n",
              "  "
            ]
          },
          "metadata": {},
          "execution_count": 57
        }
      ],
      "source": [
        "# agora vamos visualizar os dados sem os bairros mais cantados\n",
        "\n",
        "df_musicas_decadas[['Ano', 'musica', 'bairro_name']][~df_musicas_decadas['bairro_name'].isin(['Praia de Iracema', 'Mucuripe', 'Centro'])].head()"
      ],
      "id": "cfb73d3a"
    },
    {
      "cell_type": "markdown",
      "source": [
        "## Coleta YouTube DATA API"
      ],
      "metadata": {
        "id": "muXi4SU5d3OE"
      },
      "id": "muXi4SU5d3OE"
    },
    {
      "cell_type": "code",
      "source": [
        "api = 'api_key'\n",
        "youtube = build('youtube','v3', developerKey=api)"
      ],
      "metadata": {
        "id": "A2vzCrdfd7rm"
      },
      "id": "A2vzCrdfd7rm",
      "execution_count": null,
      "outputs": []
    },
    {
      "cell_type": "code",
      "source": [
        "def getStatistics(video_id):\n",
        "  res = youtube.videos().list(part=['snippet','statistics'], id=video_id).execute()\n",
        "  return res['items'][0]"
      ],
      "metadata": {
        "id": "i7WKibpoeGr9"
      },
      "id": "i7WKibpoeGr9",
      "execution_count": null,
      "outputs": []
    },
    {
      "cell_type": "code",
      "source": [
        "arquivo['youtubeData'] = arquivo.idYT.apply(lambda x: getStatistics(x))"
      ],
      "metadata": {
        "id": "KwEN9DYveKYQ"
      },
      "id": "KwEN9DYveKYQ",
      "execution_count": null,
      "outputs": []
    },
    {
      "cell_type": "code",
      "source": [
        "arquivo['snippetYT'] = arquivo['youtubeData'].apply(lambda x: x['snippet'])\n",
        "arquivo['statisticsYT'] = arquivo['youtubeData'].apply(lambda x: x['statistics'])"
      ],
      "metadata": {
        "id": "mRA7kTu4eUls"
      },
      "id": "mRA7kTu4eUls",
      "execution_count": null,
      "outputs": []
    },
    {
      "cell_type": "code",
      "source": [
        "for key in list(arquivo['statisticsYT'][0].keys()):\n",
        "  arquivo[key] = arquivo['statisticsYT'].apply(lambda x: x[key]).astype('int')"
      ],
      "metadata": {
        "id": "uZVxRWbKeZfJ"
      },
      "id": "uZVxRWbKeZfJ",
      "execution_count": null,
      "outputs": []
    },
    {
      "cell_type": "code",
      "source": [
        "f'As 79 músicas do App já acumulam {arquivo.viewCount.sum()} visualizações, {arquivo.likeCount.sum()} likes e {arquivo.commentCount.sum()} comentários no Youtube'"
      ],
      "metadata": {
        "colab": {
          "base_uri": "https://localhost:8080/",
          "height": 36
        },
        "id": "_MZKUwwqefra",
        "outputId": "628d351c-c8dc-4d8c-978a-bf8fa2187531"
      },
      "id": "_MZKUwwqefra",
      "execution_count": null,
      "outputs": [
        {
          "output_type": "execute_result",
          "data": {
            "text/plain": [
              "'As 79 músicas do App já acumulam 2715296 visualizações, 37027 likes e 1768 comentários no Youtube'"
            ],
            "application/vnd.google.colaboratory.intrinsic+json": {
              "type": "string"
            }
          },
          "metadata": {},
          "execution_count": 63
        }
      ]
    },
    {
      "cell_type": "code",
      "source": [
        "top10 = arquivo.sort_values(by=['viewCount'],ascending = False).filter(['Nome da música','viewCount','likeCount','commentCount','link','Ano','Autoria']).head(10)\n",
        "# top10"
      ],
      "metadata": {
        "id": "r7Vy2g3VemqE"
      },
      "id": "r7Vy2g3VemqE",
      "execution_count": null,
      "outputs": []
    },
    {
      "cell_type": "code",
      "source": [
        "# salvar arquivo em .csv\n",
        "top10.to_csv('10mais.csv', index = False)"
      ],
      "metadata": {
        "id": "etAp11n9etp5"
      },
      "id": "etAp11n9etp5",
      "execution_count": null,
      "outputs": []
    },
    {
      "cell_type": "code",
      "source": [
        "# filtrar arquivo para criação do mapa no Observable\n",
        "dataset_observable = musica_ano[['Nome da música', 'Autoria', 'Ano', 'Latitude', 'Longitude', 'bairro_name', 'idYT']]"
      ],
      "metadata": {
        "id": "fRmy7MJyeGjQ"
      },
      "id": "fRmy7MJyeGjQ",
      "execution_count": null,
      "outputs": []
    },
    {
      "cell_type": "code",
      "source": [
        "# salvar arquivo em .csv\n",
        "dataset_observable.to_csv('dataset_observable.csv', index=False)"
      ],
      "metadata": {
        "id": "Q7tlIqMaeQfV"
      },
      "id": "Q7tlIqMaeQfV",
      "execution_count": null,
      "outputs": []
    }
  ],
  "metadata": {
    "colab": {
      "collapsed_sections": [],
      "name": "Git_Reportagem Fortaleza 296 anos.ipynb",
      "provenance": []
    },
    "kernelspec": {
      "display_name": "Python 3 (ipykernel)",
      "language": "python",
      "name": "python3"
    },
    "language_info": {
      "codemirror_mode": {
        "name": "ipython",
        "version": 3
      },
      "file_extension": ".py",
      "mimetype": "text/x-python",
      "name": "python",
      "nbconvert_exporter": "python",
      "pygments_lexer": "ipython3",
      "version": "3.9.7"
    }
  },
  "nbformat": 4,
  "nbformat_minor": 5
}